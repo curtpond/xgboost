{
 "cells": [
  {
   "attachments": {},
   "cell_type": "markdown",
   "metadata": {},
   "source": [
    "## Kaggle Data Science Survey"
   ]
  },
  {
   "attachments": {},
   "cell_type": "markdown",
   "metadata": {},
   "source": [
    "### Import libraries"
   ]
  },
  {
   "cell_type": "code",
   "execution_count": 1,
   "metadata": {},
   "outputs": [],
   "source": [
    "import pandas as pd\n",
    "import urllib.request\n",
    "import zipfile"
   ]
  },
  {
   "cell_type": "code",
   "execution_count": 2,
   "metadata": {},
   "outputs": [],
   "source": [
    "url = 'https://github.com/mattharrison/datasets/raw/master/data/'\\\n",
    "'kaggle-survey-2018.zip' # URL to download the data"
   ]
  },
  {
   "cell_type": "code",
   "execution_count": 3,
   "metadata": {},
   "outputs": [],
   "source": [
    "fname = 'kaggle-survery-2018.zip' # save file as this name\n",
    "member_name = 'multipleChoiceResponses.csv' # name of the csv file"
   ]
  },
  {
   "cell_type": "code",
   "execution_count": 4,
   "metadata": {},
   "outputs": [],
   "source": [
    "# Extract the csv file from the zip file\n",
    "def extract_zip(src, dst, member_name): \n",
    "    \"\"\"\n",
    "    Extract a member file from a zip file and read it into a Pandas DataFrame.\n",
    "    \n",
    "    Parameters:    \n",
    "    src (str): path to the zip file\n",
    "    dst (str): path to the destination file\n",
    "    member_name (str): name of the member file to be read into a DataFrame\n",
    "    \n",
    "    Returns:\n",
    "    pandas.DataFrame: DataFrame containing the member file\n",
    "    \"\"\"\n",
    "    url = src # URL to download the data\n",
    "    fname = dst # save file as this name\n",
    "    fin = urllib.request.urlopen(url) # open the url\n",
    "    data = fin.read() # read the data\n",
    "\n",
    "    with open(dst, mode='wb') as fout: # save the data to a file\n",
    "        fout.write(data) # write the data to the file\n",
    "    with zipfile.ZipFile(dst) as z: # open the zip file\n",
    "        kag = pd.read_csv(z.open(member_name)) # read the csv file\n",
    "        kag_questions = kag.iloc[0] # get the questions\n",
    "        raw = kag.iloc[1:] # get the answers\n",
    "        return raw # return the answers"
   ]
  },
  {
   "cell_type": "code",
   "execution_count": 5,
   "metadata": {},
   "outputs": [
    {
     "name": "stderr",
     "output_type": "stream",
     "text": [
      "/var/folders/02/t1w3xsh916z60p5jhmd5xbc00000gn/T/ipykernel_41031/854491727.py:22: DtypeWarning: Columns (0,2,8,10,21,23,24,25,26,27,28,44,56,64,83,85,87,107,109,123,125,150,157,172,174,194,210,218,219,223,246,249,262,264,276,277,278,279,280,281,282,283,284,285,286,287,288,289,290,304,306,325,326,329,341,368,371,384,385,389,390,391,393,394) have mixed types. Specify dtype option on import or set low_memory=False.\n",
      "  kag = pd.read_csv(z.open(member_name)) # read the csv file\n"
     ]
    }
   ],
   "source": [
    "raw = extract_zip(url, fname, member_name) # extract the data"
   ]
  },
  {
   "cell_type": "code",
   "execution_count": null,
   "metadata": {},
   "outputs": [],
   "source": []
  },
  {
   "cell_type": "code",
   "execution_count": null,
   "metadata": {},
   "outputs": [],
   "source": []
  },
  {
   "cell_type": "code",
   "execution_count": null,
   "metadata": {},
   "outputs": [],
   "source": []
  },
  {
   "cell_type": "code",
   "execution_count": null,
   "metadata": {},
   "outputs": [],
   "source": []
  }
 ],
 "metadata": {
  "kernelspec": {
   "display_name": "fastai",
   "language": "python",
   "name": "python3"
  },
  "language_info": {
   "codemirror_mode": {
    "name": "ipython",
    "version": 3
   },
   "file_extension": ".py",
   "mimetype": "text/x-python",
   "name": "python",
   "nbconvert_exporter": "python",
   "pygments_lexer": "ipython3",
   "version": "3.10.4"
  },
  "orig_nbformat": 4
 },
 "nbformat": 4,
 "nbformat_minor": 2
}
