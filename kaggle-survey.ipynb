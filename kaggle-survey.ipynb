{
 "cells": [
  {
   "attachments": {},
   "cell_type": "markdown",
   "metadata": {},
   "source": [
    "## Kaggle Data Science Survey"
   ]
  },
  {
   "attachments": {},
   "cell_type": "markdown",
   "metadata": {},
   "source": [
    "### Import libraries"
   ]
  },
  {
   "cell_type": "code",
   "execution_count": 1,
   "metadata": {},
   "outputs": [],
   "source": [
    "import pandas as pd\n",
    "import urllib.request\n",
    "import zipfile"
   ]
  },
  {
   "attachments": {},
   "cell_type": "markdown",
   "metadata": {},
   "source": [
    "### Download and extract data"
   ]
  },
  {
   "cell_type": "code",
   "execution_count": 2,
   "metadata": {},
   "outputs": [],
   "source": [
    "url = 'https://github.com/mattharrison/datasets/raw/master/data/'\\\n",
    "'kaggle-survey-2018.zip' # URL to download the data"
   ]
  },
  {
   "cell_type": "code",
   "execution_count": 3,
   "metadata": {},
   "outputs": [],
   "source": [
    "fname = 'kaggle-survery-2018.zip' # save file as this name\n",
    "member_name = 'multipleChoiceResponses.csv' # name of the csv file"
   ]
  },
  {
   "cell_type": "code",
   "execution_count": 4,
   "metadata": {},
   "outputs": [],
   "source": [
    "# Extract the csv file from the zip file\n",
    "def extract_zip(src, dst, member_name): \n",
    "    \"\"\"\n",
    "    Extract a member file from a zip file and read it into a Pandas DataFrame.\n",
    "    \n",
    "    Parameters\n",
    "    ----------    \n",
    "    src (str): path to the zip file\n",
    "    dst (str): path to the destination file\n",
    "    member_name (str): name of the member file to be read into a DataFrame\n",
    "    \n",
    "    Returns\n",
    "    ----------\n",
    "    pandas.DataFrame: DataFrame containing the member file\n",
    "    \"\"\"\n",
    "    url = src # URL to download the data\n",
    "    fname = dst # save file as this name\n",
    "    fin = urllib.request.urlopen(url) # open the url\n",
    "    data = fin.read() # read the data\n",
    "\n",
    "    with open(dst, mode='wb') as fout: # save the data to a file\n",
    "        fout.write(data) # write the data to the file\n",
    "    with zipfile.ZipFile(dst) as z: # open the zip file\n",
    "        kag = pd.read_csv(z.open(member_name)) # read the csv file\n",
    "        kag_questions = kag.iloc[0] # get the questions\n",
    "        raw = kag.iloc[1:] # get the answers\n",
    "        return raw # return the answers"
   ]
  },
  {
   "cell_type": "code",
   "execution_count": 5,
   "metadata": {},
   "outputs": [
    {
     "name": "stderr",
     "output_type": "stream",
     "text": [
      "/var/folders/02/t1w3xsh916z60p5jhmd5xbc00000gn/T/ipykernel_41031/854491727.py:22: DtypeWarning: Columns (0,2,8,10,21,23,24,25,26,27,28,44,56,64,83,85,87,107,109,123,125,150,157,172,174,194,210,218,219,223,246,249,262,264,276,277,278,279,280,281,282,283,284,285,286,287,288,289,290,304,306,325,326,329,341,368,371,384,385,389,390,391,393,394) have mixed types. Specify dtype option on import or set low_memory=False.\n",
      "  kag = pd.read_csv(z.open(member_name)) # read the csv file\n"
     ]
    }
   ],
   "source": [
    "raw = extract_zip(url, fname, member_name) # extract the data"
   ]
  },
  {
   "attachments": {},
   "cell_type": "markdown",
   "metadata": {},
   "source": [
    "### Build a cleanup pipeline"
   ]
  },
  {
   "cell_type": "code",
   "execution_count": 10,
   "metadata": {},
   "outputs": [],
   "source": [
    "# Build a cleanup function that uses Sckit-Learn pipelines\n",
    "def tweak_kag(df_: pd.DataFrame) -> pd.DataFrame:\n",
    "    \"\"\"\n",
    "    Tweak the Kaggle survey data and return a new DataFrame.\n",
    "    This function takes a Pandas DataFrame containing Kaggle\n",
    "    survey data as input and returns a new DataFrame. The\n",
    "    modifications include extracting and transforming certain\n",
    "    columns, renaming columns, and selecting a subset of columns.\n",
    "    \n",
    "    Parameters\n",
    "    ----------\n",
    "    df_ : pd.DataFrame\n",
    "        The input DataFrame containing Kaggle survey data.\n",
    "    Returns\n",
    "    -------\n",
    "    pd.DataFrame\n",
    "        The output DataFrame containing the transformed data.\n",
    "    \"\"\"\n",
    "\n",
    "    return (df_\n",
    "            .assign(age=df_.Q2.str.slice(0, 2).astype(int),\n",
    "                    education=df_.Q4.replace({'Master’s degree': 18, \n",
    "                                              'Bachelor’s degree': 16,\n",
    "                                              'Doctoral degree': 20,\n",
    "            'Some college/university study without earning a bachelor’s degree': 13,\n",
    "                                              'Professional degree': 19,\n",
    "                                              'I prefer not to answer': None,\n",
    "                                              'No formal education past high school': 12}), \n",
    "                    major=(df_.Q5\n",
    "                                .pipe(topn, n=3)\n",
    "                                .replace({\n",
    "                                            'Computer science (software engineering, etc.)': 'cs',\n",
    "                                            'Engineering (non-computer focused)': 'eng',\n",
    "                                            'Mathematics or statistics': 'stat'})\n",
    "                                ),\n",
    "                                years_exp=(df_.Q8.str.replace('+','', regex=False)\n",
    "                                    .str.split('-', expand=True) .iloc[:,0]\n",
    "                                    .astype(float)),\n",
    "                                compensation=(df_.Q9.str.replace('+','', regex=False) \n",
    "                                              .str.replace(',','', regex=False) .str.replace('500000', '500', regex=False)\n",
    "                        .str.replace('I do not wish to disclose my approximate yearly compensation', '0', regex=False)\n",
    "                                    .str.split('-', expand=True) .iloc[:,0]\n",
    "                                    .fillna(0)\n",
    "                                    .astype(int)\n",
    "                                    .mul(1_000)\n",
    "                                    ),\n",
    "                                    python=df_.Q16_Part_1.fillna(0).replace('Python', 1),\n",
    "                                    r=df_.Q16_Part_2.fillna(0).replace('R', 1),\n",
    "                                    sql=df_.Q16_Part_3.fillna(0).replace('SQL', 1)\n",
    "                                )#assign\n",
    "                            .rename(columns=lambda col:col.replace(' ', '_'))\n",
    "                            .loc[:, 'Q1,Q3,age,education,major,years_exp,compensation,'\n",
    "                                    'python,r,sql'.split(',')]\n",
    "                        )              "
   ]
  },
  {
   "cell_type": "code",
   "execution_count": 11,
   "metadata": {},
   "outputs": [],
   "source": [
    "def topn(ser, n=5, default='other'): \n",
    "    \"\"\"\n",
    "    Replace all values in a Pandas Series that are not among\n",
    "    the top `n` most frequent values with a default value.\n",
    "    This function takes a Pandas Series and returns a new\n",
    "    Series with the values replaced as described above. The\n",
    "    top `n` most frequent values are determined using the\n",
    "    `value_counts` method of the input Series.\n",
    "    \n",
    "    Parameters\n",
    "    ----------\n",
    "    ser : pd.Series\n",
    "        The input Series.\n",
    "    n : int, optional\n",
    "        The number of most frequent values to keep. The\n",
    "        default value is 5.\n",
    "    default : str, optional\n",
    "        The default value to use for values that are not among\n",
    "        the top `n` most frequent values. The default value is\n",
    "        'other'.\n",
    "    \n",
    "    Returns\n",
    "    -------\n",
    "    pd.Series\n",
    "        The modified Series with the values replaced.\n",
    "    \"\"\" \n",
    "    counts = ser.value_counts() # get the value counts\n",
    "    return ser.where(ser.isin(counts.index[:n]), default) # return the modified series"
   ]
  },
  {
   "attachments": {},
   "cell_type": "markdown",
   "metadata": {},
   "source": [
    "Create the TweakKagTransformer class to wrap tweak_kag and embed cleanup logic into the pipeline functionality of Scikit-Learn."
   ]
  },
  {
   "cell_type": "code",
   "execution_count": 13,
   "metadata": {},
   "outputs": [],
   "source": [
    "from feature_engine import encoding, imputation\n",
    "from sklearn import base, pipeline"
   ]
  },
  {
   "cell_type": "code",
   "execution_count": 14,
   "metadata": {},
   "outputs": [],
   "source": [
    "class TweakKagTransformer(base.BaseEstimator, base.TransformerMixin):\n",
    "    \"\"\"\n",
    "        A transformer for tweaking Kaggle survey data.\n",
    "        This transformer takes a Pandas DataFrame containing\n",
    "        Kaggle survey data as input and returns a new version of\n",
    "        the DataFrame. The modifications include extracting and\n",
    "        transforming certain columns, renaming columns, and\n",
    "        selecting a subset of columns.\n",
    "    Parameters\n",
    "    ----------\n",
    "        ycol : str, optional\n",
    "        The name of the column to be used as the target variable.\n",
    "        If not specified, the target variable will not be set.\n",
    "    Attributes\n",
    "    ----------\n",
    "        ycol : str\n",
    "    \"\"\"\n",
    "    def __init__(self, ycol=None):\n",
    "        self.ycol = ycol\n",
    "\n",
    "    def fit(self, X, y=None):\n",
    "        return self\n",
    "\n",
    "    def transform(self, X):\n",
    "        return tweak_kag(X)"
   ]
  },
  {
   "attachments": {},
   "cell_type": "markdown",
   "metadata": {},
   "source": [
    "Create a new function, get_rawX_y, which takes the original data and return an X DataFrame and a y Series ready to feed into the pipeline for further cleanup."
   ]
  },
  {
   "cell_type": "code",
   "execution_count": 15,
   "metadata": {},
   "outputs": [],
   "source": [
    "def get_rawX_y(df, y_col):\n",
    "    raw = (df.query('Q3.isin([\"United States of America\", \"China\", \"India\"]) '\n",
    "                    'and Q6.isin([\"Data Scientist\", \"Software Engineer\"])') \n",
    "    )\n",
    "    return raw.drop(columns=[y_col]), raw[y_col]"
   ]
  },
  {
   "attachments": {},
   "cell_type": "markdown",
   "metadata": {},
   "source": [
    "Create the pipeline and prepare to run the code"
   ]
  },
  {
   "cell_type": "code",
   "execution_count": 17,
   "metadata": {},
   "outputs": [],
   "source": [
    "# Create a pipeline to preprocess the data\n",
    "kag_pl = pipeline.Pipeline(\n",
    "    [('tweak', TweakKagTransformer()),\n",
    "     ('cat', encoding.OneHotEncoder(top_categories=5, drop_last=True,\n",
    "                                    variables=['Q1', 'Q3', 'major'])),\n",
    "     ('num_impute', imputation.MeanMedianImputer(imputation_method='median',\n",
    "                                               variables=['education', 'years_exp']))\n",
    "    ]\n",
    ")"
   ]
  },
  {
   "attachments": {},
   "cell_type": "markdown",
   "metadata": {},
   "source": [
    "### Split the data"
   ]
  },
  {
   "cell_type": "code",
   "execution_count": 19,
   "metadata": {},
   "outputs": [],
   "source": [
    "from sklearn import model_selection\n",
    "kag_X, kag_y = get_rawX_y(raw, 'Q6')\n",
    "kag_X_train, kag_X_test, kag_y_train, kag_y_test = model_selection.train_test_split(kag_X, kag_y, test_size=.3, stratify=kag_y, random_state=42)"
   ]
  },
  {
   "attachments": {},
   "cell_type": "markdown",
   "metadata": {},
   "source": [
    "### Fit the model"
   ]
  },
  {
   "cell_type": "code",
   "execution_count": 20,
   "metadata": {},
   "outputs": [
    {
     "name": "stdout",
     "output_type": "stream",
     "text": [
      "       age  education  years_exp  compensation  python  r  sql  Q1_Male  \\\n",
      "587     25       18.0        4.0             0       1  0    1        1   \n",
      "3065    22       16.0        1.0         10000       1  0    0        1   \n",
      "8435    22       18.0        1.0             0       1  0    0        1   \n",
      "3110    40       20.0        3.0        125000       1  0    1        0   \n",
      "16372   45       12.0        5.0        100000       1  0    1        1   \n",
      "...    ...        ...        ...           ...     ... ..  ...      ...   \n",
      "16608   25       16.0        2.0         10000       0  0    1        1   \n",
      "7325    18       16.0        1.0         30000       1  0    1        1   \n",
      "21810   18       16.0        2.0             0       0  0    0        1   \n",
      "4917    25       18.0        1.0        100000       1  0    1        1   \n",
      "639     25       18.0        1.0         10000       1  0    0        0   \n",
      "\n",
      "       Q1_Female  Q1_Prefer not to say  Q1_Prefer to self-describe  \\\n",
      "587            0                     0                           0   \n",
      "3065           0                     0                           0   \n",
      "8435           0                     0                           0   \n",
      "3110           1                     0                           0   \n",
      "16372          0                     0                           0   \n",
      "...          ...                   ...                         ...   \n",
      "16608          0                     0                           0   \n",
      "7325           0                     0                           0   \n",
      "21810          0                     0                           0   \n",
      "4917           0                     0                           0   \n",
      "639            1                     0                           0   \n",
      "\n",
      "       Q3_United States of America  Q3_India  Q3_China  major_cs  major_other  \\\n",
      "587                              0         1         0         0            1   \n",
      "3065                             0         1         0         1            0   \n",
      "8435                             0         1         0         0            1   \n",
      "3110                             1         0         0         0            1   \n",
      "16372                            1         0         0         0            1   \n",
      "...                            ...       ...       ...       ...          ...   \n",
      "16608                            0         1         0         1            0   \n",
      "7325                             1         0         0         1            0   \n",
      "21810                            0         1         0         1            0   \n",
      "4917                             1         0         0         0            0   \n",
      "639                              0         1         0         1            0   \n",
      "\n",
      "       major_eng  major_stat  \n",
      "587            0           0  \n",
      "3065           0           0  \n",
      "8435           0           0  \n",
      "3110           0           0  \n",
      "16372          0           0  \n",
      "...          ...         ...  \n",
      "16608          0           0  \n",
      "7325           0           0  \n",
      "21810          0           0  \n",
      "4917           0           1  \n",
      "639            0           0  \n",
      "\n",
      "[2110 rows x 18 columns]\n"
     ]
    }
   ],
   "source": [
    "X_train = kag_pl.fit_transform(kag_X_train, kag_y_train)\n",
    "X_test = kag_pl.transform(kag_X_test)\n",
    "print(X_train)"
   ]
  },
  {
   "attachments": {},
   "cell_type": "markdown",
   "metadata": {},
   "source": [
    "### Check the labels"
   ]
  },
  {
   "cell_type": "code",
   "execution_count": 21,
   "metadata": {},
   "outputs": [
    {
     "data": {
      "text/plain": [
       "587      Software Engineer\n",
       "3065        Data Scientist\n",
       "8435        Data Scientist\n",
       "3110        Data Scientist\n",
       "16372    Software Engineer\n",
       "               ...        \n",
       "16608    Software Engineer\n",
       "7325     Software Engineer\n",
       "21810       Data Scientist\n",
       "4917        Data Scientist\n",
       "639         Data Scientist\n",
       "Name: Q6, Length: 2110, dtype: object"
      ]
     },
     "execution_count": 21,
     "metadata": {},
     "output_type": "execute_result"
    }
   ],
   "source": [
    "kag_y_train"
   ]
  },
  {
   "cell_type": "code",
   "execution_count": null,
   "metadata": {},
   "outputs": [],
   "source": []
  }
 ],
 "metadata": {
  "kernelspec": {
   "display_name": "fastai",
   "language": "python",
   "name": "python3"
  },
  "language_info": {
   "codemirror_mode": {
    "name": "ipython",
    "version": 3
   },
   "file_extension": ".py",
   "mimetype": "text/x-python",
   "name": "python",
   "nbconvert_exporter": "python",
   "pygments_lexer": "ipython3",
   "version": "3.10.4"
  },
  "orig_nbformat": 4
 },
 "nbformat": 4,
 "nbformat_minor": 2
}
